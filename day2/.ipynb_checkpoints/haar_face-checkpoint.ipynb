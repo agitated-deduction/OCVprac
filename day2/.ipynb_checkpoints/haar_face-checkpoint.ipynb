{
 "cells": [
  {
   "cell_type": "code",
   "execution_count": 1,
   "metadata": {},
   "outputs": [],
   "source": [
    "import cv2"
   ]
  },
  {
   "cell_type": "code",
   "execution_count": 2,
   "metadata": {},
   "outputs": [],
   "source": [
    "pic = cv2.imread('Borges.jpg')"
   ]
  },
  {
   "cell_type": "code",
   "execution_count": 6,
   "metadata": {},
   "outputs": [],
   "source": [
    "def find_face():\n",
    "    faceCascade = cv2.CascadeClassifier(\n",
    "    '/home/user1/anaconda3/envs/opencv/share/opencv4/haarcascades/haarcascade_frontalface_default.xml')\n",
    "    while True:\n",
    "        gray = cv2.cvtColor(pic, cv2.COLOR_BGR2GRAY)\n",
    "        faces = faceCascade.detectMultiScale(\n",
    "            gray,\n",
    "            scaleFactor = 1.1,\n",
    "            minNeighbors = 5,\n",
    "            minSize = (30, 30),\n",
    "            flags = cv2.CASCADE_SCALE_IMAGE\n",
    "        )\n",
    "    \n",
    "        for(x, y, w, h) in faces:\n",
    "            cv2.rectangle(pic, (x, y), (x+w, y+h), (0, 255, 0), 2)\n",
    "        cv2.imshow(\"Faces Found\", pic)\n",
    "    \n",
    "        if cv2.waitKey(0)&0xFF == ord('q'):\n",
    "            break\n",
    "\n"
   ]
  },
  {
   "cell_type": "code",
   "execution_count": 9,
   "metadata": {},
   "outputs": [],
   "source": [
    "def find_eyes():\n",
    "    #이거만 바꾸면 되나봐\n",
    "    faceCascade = cv2.CascadeClassifier(\n",
    "    '/home/user1/anaconda3/envs/opencv/share/opencv4/haarcascades/haarcascade_eye.xml')\n",
    "    #\n",
    "    while True:\n",
    "        gray = cv2.cvtColor(pic, cv2.COLOR_BGR2GRAY)\n",
    "        faces = faceCascade.detectMultiScale(\n",
    "            gray,\n",
    "            scaleFactor = 1.1,\n",
    "            minNeighbors = 5,\n",
    "            minSize = (30, 30),\n",
    "            flags = cv2.CASCADE_SCALE_IMAGE\n",
    "        )\n",
    "    \n",
    "        for(x, y, w, h) in faces:\n",
    "            cv2.rectangle(pic, (x, y), (x+w, y+h), (0, 255, 0), 2)\n",
    "        cv2.imshow(\"Faces Found\", pic)\n",
    "    \n",
    "        if cv2.waitKey(0)&0xFF == ord('q'):\n",
    "            break\n",
    "        "
   ]
  },
  {
   "cell_type": "code",
   "execution_count": 10,
   "metadata": {},
   "outputs": [],
   "source": [
    "find_eyes()\n",
    "cv2.destroyAllWindows()"
   ]
  },
  {
   "cell_type": "code",
   "execution_count": null,
   "metadata": {},
   "outputs": [],
   "source": []
  }
 ],
 "metadata": {
  "kernelspec": {
   "display_name": "Python 3",
   "language": "python",
   "name": "python3"
  },
  "language_info": {
   "codemirror_mode": {
    "name": "ipython",
    "version": 3
   },
   "file_extension": ".py",
   "mimetype": "text/x-python",
   "name": "python",
   "nbconvert_exporter": "python",
   "pygments_lexer": "ipython3",
   "version": "3.8.2"
  }
 },
 "nbformat": 4,
 "nbformat_minor": 4
}
